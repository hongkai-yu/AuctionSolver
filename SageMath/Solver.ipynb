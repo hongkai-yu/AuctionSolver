{
 "cells": [
  {
   "cell_type": "markdown",
   "metadata": {},
   "source": [
    "Solving Equations"
   ]
  },
  {
   "cell_type": "code",
   "execution_count": 2,
   "metadata": {},
   "outputs": [
    {
     "data": {
      "text/html": [
       "<html><script type=\"math/tex; mode=display\">\\newcommand{\\Bold}[1]{\\mathbf{#1}}-0.500000000000000 \\, {\\left(t - 1\\right)} t - 1.00000000000000 \\, v_{\\mathit{max}} + 0.500000000000000 = -1.00000000000000 \\, {\\left(t - v_{\\mathit{min}}\\right)} {\\left(v_{\\mathit{max}} - v_{\\mathit{min}}\\right)} + 0.500000000000000 \\, {\\left(2 \\, v_{\\mathit{max}} - 1\\right)} {\\left(v_{\\mathit{max}} - v_{\\mathit{min}}\\right)} - 0.500000000000000 \\, {\\left(v_{\\mathit{max}} - 1\\right)} v_{\\mathit{max}} + 0.500000000000000 \\, {\\left(v_{\\mathit{min}} - 1\\right)} v_{\\mathit{min}} 1.00000000000000 \\, t - 0.500000000000000 = 1.00000000000000 \\, v_{\\mathit{max}} - 1.00000000000000 \\, v_{\\mathit{min}} -2 \\, r + 1 = 2 \\, v_{\\mathit{max}} - 2 \\, v_{\\mathit{min}} -0.250000000000000 \\, r^{2} + 0.250000000000000 \\, v_{\\mathit{min}}^{2} = -\\frac{{\\left({\\left(0.500000000000000 \\, v_{\\mathit{max}} + 0.500000000000000\\right)}^{2} - 0.250000000000000 \\, v_{\\mathit{min}}^{2}\\right)} {\\left(t - v_{\\mathit{min}}\\right)}}{1.00000000000000 \\, v_{\\mathit{max}} - 1.00000000000000 \\, v_{\\mathit{min}} + 0.500000000000000}</script></html>"
      ],
      "text/plain": [
       "-0.500000000000000*(t - 1)*t - 1.00000000000000*v_max + 0.500000000000000 == -1.00000000000000*(t - v_min)*(v_max - v_min) + 0.500000000000000*(2*v_max - 1)*(v_max - v_min) - 0.500000000000000*(v_max - 1)*v_max + 0.500000000000000*(v_min - 1)*v_min 1.00000000000000*t - 0.500000000000000 == 1.00000000000000*v_max - 1.00000000000000*v_min -2*r + 1 == 2*v_max - 2*v_min -0.250000000000000*r^2 + 0.250000000000000*v_min^2 == -((0.500000000000000*v_max + 0.500000000000000)^2 - 0.250000000000000*v_min^2)*(t - v_min)/(1.00000000000000*v_max - 1.00000000000000*v_min + 0.500000000000000)"
      ]
     },
     "metadata": {},
     "output_type": "display_data"
    }
   ],
   "source": [
    "var('r','t','v','alpha','n')\n",
    "var('r_star')\n",
    "var('v_min')\n",
    "var('v_max')\n",
    "var('s')\n",
    "\n",
    "assume(n>1)\n",
    "assume(alpha<1, alpha>0)\n",
    "assume(v_max>=v_min>=t>=r_star>=r>=0)\n",
    "\n",
    "assume(v_min, 'real')\n",
    "assume(v_max, 'real')\n",
    "assume(t, 'real')\n",
    "assume(r, 'real')\n",
    "\n",
    "n = 2 # for numerical solution\n",
    "alpha = 0.5 # for numerical solution\n",
    "\n",
    "# F = function('F')(v)\n",
    "F(v) = v # for numerical solution \n",
    "\n",
    "f = F.derivative(v)\n",
    "pi(p) = (1-F(p))*p\n",
    "phi(v) = v - (1-F(v))/f\n",
    "chi(v_min, v_max) = (((1-alpha)*F(v_max)+alpha)^n-((1-alpha)*F(v_min))^n) / (n*(1-alpha)*(F(v_max)-F(v_min))+alpha)\n",
    "\n",
    "# assume(phi(r_star)==0)\n",
    "\n",
    "eq1 = (alpha * (pi(t)-phi(v_max)) == (1-alpha)*((v_min-t)*(phi(v_max)-phi(v_min))*f(v_min)+(F(v_max)-F(v_min))*phi(v_max)-(pi(v_min)-pi(v_max))))\n",
    "eq2 = (-alpha*diff(pi(t),t) == (1-alpha)*(phi(v_max)-phi(v_min))*f(v_min))\n",
    "eq3 = (-phi(r)*f(r) == (phi(v_max)-phi(v_min))*f(v_min))\n",
    "eq4 = ((1-alpha)^(n-1) * integrate(F(s)^(n-1),s,r,v_min) == chi(v_min,v_max)*(v_min-t))\n",
    "show(eq1,eq2,eq3,eq4)"
   ]
  },
  {
   "cell_type": "code",
   "execution_count": 3,
   "metadata": {},
   "outputs": [
    {
     "data": {
      "text/html": [
       "<html><script type=\"math/tex; mode=display\">\\newcommand{\\Bold}[1]{\\mathbf{#1}}\\left[\\left[r = -v_{\\mathit{max}} + v_{\\mathit{min}} + \\frac{1}{2}, t = v_{\\mathit{max}} - v_{\\mathit{min}} + \\frac{1}{2}, \\max\\left(0, v_{\\mathit{min}} - \\frac{1}{2}\\right) < v_{\\mathit{max}}, v_{\\mathit{max}} < \\min\\left(1, v_{\\mathit{min}} + \\frac{1}{2}\\right), 0 < v_{\\mathit{min}}, v_{\\mathit{min}} < 1, -0.0625 \\, {\\left(2 \\, v_{\\mathit{max}} - 2 \\, v_{\\mathit{min}} - 1\\right)}^{2} + 0.25 \\, v_{\\mathit{min}}^{2} + \\frac{{\\left({\\left(0.5 \\, v_{\\mathit{max}} + 0.5\\right)}^{2} - 0.25 \\, v_{\\mathit{min}}^{2}\\right)} {\\left(2 \\, v_{\\mathit{max}} - 4 \\, v_{\\mathit{min}} + 1\\right)}}{2 \\, {\\left(1.0 \\, v_{\\mathit{max}} - 1.0 \\, v_{\\mathit{min}} + 0.5\\right)}} = 0, \\frac{1}{2} \\, {\\left(2 \\, v_{\\mathit{max}} - 4 \\, v_{\\mathit{min}} + 1\\right)} {\\left(1.0 \\, v_{\\mathit{max}} - 1.0 \\, v_{\\mathit{min}}\\right)} - {\\left(v_{\\mathit{max}} - v_{\\mathit{min}}\\right)} {\\left(1.0 \\, v_{\\mathit{max}} - 0.5\\right)} + v_{\\mathit{max}} {\\left(0.5 \\, v_{\\mathit{max}} - 0.5\\right)} - {\\left(2 \\, v_{\\mathit{max}} - 2 \\, v_{\\mathit{min}} + 1\\right)} {\\left(0.25 \\, v_{\\mathit{max}} - 0.25 \\, v_{\\mathit{min}} - 0.125\\right)} - v_{\\mathit{min}} {\\left(0.5 \\, v_{\\mathit{min}} - 0.5\\right)} - 1.0 \\, v_{\\mathit{max}} + 0.5 = 0\\right]\\right]</script></html>"
      ],
      "text/plain": [
       "[[r == -v_max + v_min + 1/2, t == v_max - v_min + 1/2, max(0, v_min - 1/2) < v_max, v_max < min(1, v_min + 1/2), 0 < v_min, v_min < 1, -0.0625*(2*v_max - 2*v_min - 1)^2 + 0.25*v_min^2 + 1/2*((0.5*v_max + 0.5)^2 - 0.25*v_min^2)*(2*v_max - 4*v_min + 1)/(1.0*v_max - 1.0*v_min + 0.5) == 0, 1/2*(2*v_max - 4*v_min + 1)*(1.0*v_max - 1.0*v_min) - (v_max - v_min)*(1.0*v_max - 0.5) + v_max*(0.5*v_max - 0.5) - (2*v_max - 2*v_min + 1)*(0.25*v_max - 0.25*v_min - 0.125) - v_min*(0.5*v_min - 0.5) - 1.0*v_max + 0.5 == 0]]"
      ]
     },
     "metadata": {},
     "output_type": "display_data"
    }
   ],
   "source": [
    "soln = solve([eq1,eq2,eq3,eq4,v_min > 0, v_max >0, r>0, t>0, v_min<1, v_max<1, r<1, v_min<1],v_min,v_max,r,t)\n",
    "show(soln)"
   ]
  }
 ],
 "metadata": {
  "kernelspec": {
   "display_name": "SageMath 9.0",
   "language": "sage",
   "name": "sagemath"
  },
  "language_info": {
   "codemirror_mode": {
    "name": "ipython",
    "version": 3
   },
   "file_extension": ".py",
   "mimetype": "text/x-python",
   "name": "python",
   "nbconvert_exporter": "python",
   "pygments_lexer": "ipython3",
   "version": "3.7.6"
  }
 },
 "nbformat": 4,
 "nbformat_minor": 2
}
