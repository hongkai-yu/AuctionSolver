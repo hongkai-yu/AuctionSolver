{
 "cells": [
  {
   "cell_type": "code",
   "execution_count": 3,
   "metadata": {},
   "outputs": [
    {
     "name": "stdout",
     "output_type": "stream",
     "text": [
      "Symbolic pkg v2.9.0: Python communication link active, SymPy v1.5.1.\n",
      "error: Python exception: NameError: name 'exp_polar' is not defined\n",
      "    occurred at line 8 of the Python code block:\n",
      "    r = nsolve(e, x, x0)\n",
      "error: called from\n",
      "    pycall_sympy__ at line 178 column 7\n",
      "    vpasolve at line 114 column 5\n",
      "error: 'out' undefined near line 1 column 6\n"
     ]
    }
   ],
   "source": [
    "warning('off','all');\n",
    "pkg load symbolic;\n",
    "\n",
    "syms  r t v_min v_max\n",
    "syms s v;\n",
    "\n",
    "alpha = 0.4;\n",
    "n = 2;\n",
    "% c = 0.4;\n",
    "\n",
    "% F(v) = v^c;\n",
    "\n",
    "z = 2000;\n",
    "G(v) = (sqrt(z*v^4 + 1) - 1) / v^2;\n",
    "F(v) = G(v) / G(1);\n",
    "\n",
    "% F(v) = ((1/2)*(sqrt(z*v^4 + 1) - 1)/v^2)/(1/2*(sqrt(z*1^4 + 1) - 1)/1^2);\n",
    "\n",
    "f = diff(F);\n",
    "pi(v) = (1-F(v))*v;\n",
    "phi(v) = v - (1-F(v))/f;\n",
    "chi(v_min, v_max) = (((1-alpha)*F(v_max)+alpha)^n-((1-alpha)*F(v_min))^n) / (n*(1-alpha)*(F(v_max)-F(v_min))+alpha);\n",
    "\n",
    "eq1 = (alpha * (pi(t)-phi(v_max)) == (1-alpha)*((v_min-t)*(phi(v_max)-phi(v_min))*f(v_min)+(F(v_max)-F(v_min))*phi(v_max)-(pi(v_min)-pi(v_max))));\n",
    "eq2 = (-alpha*diff(pi(t),t) == (1-alpha)*(phi(v_max)-phi(v_min))*f(v_min));\n",
    "eq3 = (-phi(r)*f(r) == (phi(v_max)-phi(v_min))*f(v_min));\n",
    "eq4 = ((1-alpha)^(n-1) * int(F(s)^(n-1),s,r,v_min) == chi(v_min,v_max)*(v_min-t));\n",
    "\n",
    "equations = [eq1 eq2 eq3 eq4];\n",
    "vars = [r t v_min v_max];\n",
    "\n",
    "out = vpasolve(equations, vars,[1/2 1/2 1/2 1/2]);\n",
    "\n",
    "disp(out);"
   ]
  }
 ],
 "metadata": {
  "kernelspec": {
   "display_name": "Octave",
   "language": "octave",
   "name": "octave"
  },
  "language_info": {
   "file_extension": ".m",
   "help_links": [
    {
     "text": "GNU Octave",
     "url": "https://www.gnu.org/software/octave/support.html"
    },
    {
     "text": "Octave Kernel",
     "url": "https://github.com/Calysto/octave_kernel"
    },
    {
     "text": "MetaKernel Magics",
     "url": "https://metakernel.readthedocs.io/en/latest/source/README.html"
    }
   ],
   "mimetype": "text/x-octave",
   "name": "octave",
   "version": "5.2.0"
  }
 },
 "nbformat": 4,
 "nbformat_minor": 4
}
