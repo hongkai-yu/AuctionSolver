{
 "cells": [
  {
   "cell_type": "code",
   "execution_count": 1,
   "metadata": {},
   "outputs": [
    {
     "ename": "SyntaxError",
     "evalue": "invalid syntax (<ipython-input-1-1499ac3675fa>, line 30)",
     "output_type": "error",
     "traceback": [
      "\u001b[0;36m  File \u001b[0;32m\"<ipython-input-1-1499ac3675fa>\"\u001b[0;36m, line \u001b[0;32m30\u001b[0m\n\u001b[0;31m    equations = [eq1 eq2 eq3 eq4];\u001b[0m\n\u001b[0m                       ^\u001b[0m\n\u001b[0;31mSyntaxError\u001b[0m\u001b[0;31m:\u001b[0m invalid syntax\n"
     ]
    }
   ],
   "source": [
    "from sympy import Symbol, nsolve\n",
    "import sympy\n",
    "import mpmath\n",
    "mpmath.mp.dps = 15\n",
    "x1 = Symbol('x1')\n",
    "x2 = Symbol('x2')\n",
    "\n",
    "alpha = 0.4;\n",
    "n = 2;\n",
    "#  c = 0.4;\n",
    "\n",
    "#  F(v) = v^c;\n",
    "\n",
    "z = 2000;\n",
    "G(v) = (sqrt(z*v^4 + 1) - 1) / v^2;\n",
    "F(v) = G(v) / G(1);\n",
    "\n",
    "#  F(v) = ((1/2)*(sqrt(z*v^4 + 1) - 1)/v^2)/(1/2*(sqrt(z*1^4 + 1) - 1)/1^2);\n",
    "\n",
    "f = diff(F);\n",
    "pi(v) = (1-F(v))*v;\n",
    "phi(v) = v - (1-F(v))/f;\n",
    "chi(v_min, v_max) = (((1-alpha)*F(v_max)+alpha)^n-((1-alpha)*F(v_min))^n) / (n*(1-alpha)*(F(v_max)-F(v_min))+alpha);\n",
    "\n",
    "eq1 = (alpha * (pi(t)-phi(v_max)) == (1-alpha)*((v_min-t)*(phi(v_max)-phi(v_min))*f(v_min)+(F(v_max)-F(v_min))*phi(v_max)-(pi(v_min)-pi(v_max))));\n",
    "eq2 = (-alpha*diff(pi(t),t) == (1-alpha)*(phi(v_max)-phi(v_min))*f(v_min));\n",
    "eq3 = (-phi(r)*f(r) == (phi(v_max)-phi(v_min))*f(v_min));\n",
    "eq4 = ((1-alpha)^(n-1) * int(F(s)^(n-1),s,r,v_min) == chi(v_min,v_max)*(v_min-t));\n",
    "\n",
    "equations = [eq1 eq2 eq3 eq4];\n",
    "vars = [r t v_min v_max];\n",
    "\n",
    "out = NSolve(equations, vars,[1/2 1/2 1/2 1/2]);\n"
   ]
  }
 ],
 "metadata": {
  "kernelspec": {
   "display_name": "Python 3",
   "language": "python",
   "name": "python3"
  },
  "language_info": {
   "codemirror_mode": {
    "name": "ipython",
    "version": 3
   },
   "file_extension": ".py",
   "mimetype": "text/x-python",
   "name": "python",
   "nbconvert_exporter": "python",
   "pygments_lexer": "ipython3",
   "version": "3.7.6"
  }
 },
 "nbformat": 4,
 "nbformat_minor": 4
}
